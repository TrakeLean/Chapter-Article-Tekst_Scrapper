{
 "cells": [
  {
   "cell_type": "code",
   "execution_count": 191,
   "metadata": {},
   "outputs": [],
   "source": [
    "from bs4 import BeautifulSoup\n",
    "from urllib.request import urlopen\n",
    "import requests\n",
    "import pandas as pd"
   ]
  },
  {
   "cell_type": "code",
   "execution_count": 192,
   "metadata": {},
   "outputs": [],
   "source": [
    "def do_scrape():\n",
    "    link = 'https://eur-lex.europa.eu/legal-content/EN/TXT/HTML/?uri=CELEX%3A32017R0745&from=IT&fbclid=IwAR0RGdpi82vgk1kXnPpnOybyEB61Gow6R39Fx97y91xEOaUq6rOCL0R3goA#d1e4765-1-1'\n",
    "\n",
    "    response = requests.get(link)\n",
    "    #write(response.text) \n",
    "    return response.content"
   ]
  },
  {
   "cell_type": "code",
   "execution_count": 193,
   "metadata": {},
   "outputs": [],
   "source": [
    "def write(response):\n",
    "    # Write html file from data scrapped\n",
    "    with open(f\"scrap.html\",\"w\",encoding=\"utf-8\")as html_file:\n",
    "        html_file.write(response.text)    "
   ]
  },
  {
   "cell_type": "code",
   "execution_count": 194,
   "metadata": {},
   "outputs": [],
   "source": [
    "def get_info():\n",
    "    soup = BeautifulSoup(do_scrape(), 'html')\n",
    "\n",
    "    # Loop till we hit first chapter\n",
    "    looper = soup.find('p', class_='ti-section-1').find_next_sibling()\n",
    "    #looper = looper.find_previous_sibling()\n",
    "\n",
    "    all_chapters = {}\n",
    "    all_articles = {}\n",
    "    all_info = []\n",
    "    chapter = 0\n",
    "    article = 0\n",
    "    print('CHAPTER I')\n",
    "    while True:\n",
    "        # Remove (Scope and definitions)\n",
    "        if looper in soup.find_all('p', class_='ti-section-2'):\n",
    "            looper = looper.find_next_sibling()\n",
    "        # Remove (Subject of matter and scope)\n",
    "        if looper in soup.find_all('p', class_='sti-art'):\n",
    "            looper = looper.find_next_sibling()\n",
    "            \n",
    "        # Store chapters\n",
    "        if looper in soup.find_all('p', class_='ti-section-1'):\n",
    "            print(looper.text.replace(' ', '_'))\n",
    "            all_chapters[chapter] = all_articles\n",
    "            all_articles = {}\n",
    "            chapter += 1\n",
    "            if looper.text == 'CHAPTER X':\n",
    "                break\n",
    "            \n",
    "        # Store the next Article\n",
    "        if looper in soup.find_all('p', class_='ti-art'):\n",
    "            print(looper.text.replace('\\u00A0', '_'))\n",
    "            all_articles[article] = all_info\n",
    "            article += 1\n",
    "            all_info = []\n",
    "            \n",
    "        # Store tekst \n",
    "        if looper not in soup.find_all('p', class_='ti-art'):\n",
    "            all_info.append(looper.text)\n",
    "        looper = looper.find_next_sibling()\n",
    "    return all_chapters"
   ]
  }
 ],
 "metadata": {
  "interpreter": {
   "hash": "b0fa6594d8f4cbf19f97940f81e996739fb7646882a419484c72d19e05852a7e"
  },
  "kernelspec": {
   "display_name": "Python 3.9.12 64-bit",
   "language": "python",
   "name": "python3"
  },
  "language_info": {
   "codemirror_mode": {
    "name": "ipython",
    "version": 3
   },
   "file_extension": ".py",
   "mimetype": "text/x-python",
   "name": "python",
   "nbconvert_exporter": "python",
   "pygments_lexer": "ipython3",
   "version": "3.9.12"
  },
  "orig_nbformat": 4
 },
 "nbformat": 4,
 "nbformat_minor": 2
}
